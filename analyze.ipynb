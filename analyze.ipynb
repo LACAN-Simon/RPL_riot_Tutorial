{
 "cells": [
  {
   "cell_type": "code",
   "execution_count": 1,
   "metadata": {},
   "outputs": [],
   "source": [
    "# Path of your file\n",
    "nom_fichier = \"final1\""
   ]
  },
  {
   "cell_type": "code",
   "execution_count": 5,
   "metadata": {},
   "outputs": [],
   "source": [
    "import networkx as nx\n",
    "import matplotlib.pyplot as plt\n",
    "import numpy as np\n",
    "def showtree(a):\n",
    "    pos = nx.spring_layout(a) \n",
    "    nx.draw(a, pos, with_labels=True, node_color='lightblue', node_size=700, font_size=12, font_weight='bold')"
   ]
  },
  {
   "cell_type": "code",
   "execution_count": 6,
   "metadata": {},
   "outputs": [],
   "source": [
    "#initialization of all the dict\n",
    "ip = {}\n",
    "link = {}\n",
    "pr={}\n",
    "id = {}\n",
    "com = {}\n",
    "temp = {}\n",
    "bat = {}\n",
    "comp = 0"
   ]
  },
  {
   "cell_type": "code",
   "execution_count": null,
   "metadata": {},
   "outputs": [],
   "source": [
    "with open(nom_fichier, \"r\") as fichier:\n",
    "  lignes = fichier.readlines()\n",
    "  for l in lignes:\n",
    "        if (len(l)>20):\n",
    "            r = l[20:].index(';')\n",
    "            a = l[21:21+r-1]\n",
    "            if (a not in ip) :\n",
    "              ip[a] = 0\n",
    "              link[a] = 0\n",
    "              pr[a] = []\n",
    "              id[a] = 0\n",
    "              com[a] = 0\n",
    "              bat[a] = [100]"
   ]
  },
  {
   "cell_type": "code",
   "execution_count": null,
   "metadata": {},
   "outputs": [],
   "source": [
    "with open(nom_fichier, \"r\") as fichier:\n",
    "  lignes = fichier.readlines()\n",
    "  for l in lignes:\n",
    "    if (l[-10:]=='link  VAL\\n'):\n",
    "      a = l.index(':')\n",
    "      r = l[20:].index(';')\n",
    "      i = l[21:21+r-1]\n",
    "      val = l[a+2:a+27]\n",
    "      ip[i]=val.replace(\" \", \"\")\n",
    "    if ('*' in l):\n",
    "      val = l[l.index('v')+4:l.index('v')+29]\n",
    "      r = l[20:].index(';')\n",
    "      i = l[21:21+r-1]\n",
    "      link[i]=val.replace(\" \",\"\")\n",
    "    if ('parent' in l and 'addr' in l):\n",
    "      a = l[l.index('[')+7:l.index('[')+32]\n",
    "      r = l[20:].index(';')\n",
    "      i = l[21:21+r-1]\n",
    "      pr[i].append(a.replace(\" \",\"\"))\n",
    "    if 'ID =' in l[20:] :\n",
    "      r = l[20:].index(';')\n",
    "      a = l[21:21+r-1]\n",
    "      id[a] = l[l.index('=')+2:].replace(\"\\n\",\"\")\n",
    "      temp[l[l.index('=')+2:].replace(\"\\n\",\"\")]=0\n",
    "    if 'Packet' in l:\n",
    "      sup = l[21:21+l[20:].index(';')-1]\n",
    "      r = l[l.index(':')+2:].replace(\"\\n\",\"\")\n",
    "      r = r[:3].replace(\" \",\"\")\n",
    "      if temp[r]!=l[:10]:\n",
    "        for i in id :\n",
    "              if r == id[i]:\n",
    "                com[i] = com[i] + 1\n",
    "      temp[r] = l[:10]\n",
    "    if \"changement\" in l:\n",
    "      comp = comp + 1\n",
    "    r = l[20:].index(';')\n",
    "    a = l[21:21+r-1]\n",
    "    if (l[21+r:24+r]=='bat'):\n",
    "      res = l[-4:].replace(\"\\n\",\"\")\n",
    "      res = res.replace(\" \",\"\")\n",
    "      res = res.replace(\"=\", \"\")\n",
    "      bat[a].append(float(res)/10)"
   ]
  },
  {
   "cell_type": "code",
   "execution_count": null,
   "metadata": {},
   "outputs": [],
   "source": [
    "G = nx.Graph()\n",
    "for i in ip :\n",
    "  G.add_node(i)\n",
    "for i in link:\n",
    "  a =link[i]\n",
    "  for j in ip:\n",
    "    if (a == ip[j]):\n",
    "      G.add_edge(j, i)\n",
    "    \n",
    "H = nx.Graph()\n",
    "for i in ip :\n",
    "  H.add_node(i)\n",
    "for i in pr:\n",
    "  for k in range(len(pr[i])):\n",
    "    a = pr[i][k]\n",
    "    for j in ip:\n",
    "      if (a == ip[j]):\n",
    "        H.add_edge(j, i)"
   ]
  },
  {
   "cell_type": "code",
   "execution_count": null,
   "metadata": {},
   "outputs": [],
   "source": [
    "showtree(H)"
   ]
  },
  {
   "cell_type": "code",
   "execution_count": null,
   "metadata": {},
   "outputs": [],
   "source": [
    "showtree(G)"
   ]
  },
  {
   "cell_type": "code",
   "execution_count": null,
   "metadata": {},
   "outputs": [],
   "source": [
    "del ip[sup]\n",
    "del com[sup]\n",
    "\n",
    "start = \"\"\n",
    "\n",
    "with open(nom_fichier, \"r\") as fichier:\n",
    "  lignes = fichier.readlines()\n",
    "  for l in lignes:\n",
    "        if 'Packet' in l :\n",
    "          start = l[:10]\n",
    "          break\n",
    "\n",
    "with open(nom_fichier, \"r\") as fichier:\n",
    "  lignes = fichier.readlines()\n",
    "  for l in lignes:\n",
    "        if 'Packet' in l :\n",
    "          end = l[:10]\n",
    "\n",
    "\n",
    "time = (int(end)-int(start))\n",
    "nb = time/4\n",
    "\n",
    "p = []\n",
    "q = []\n",
    "lab = []\n",
    "for i in com :\n",
    "  q.append(com[i])\n",
    "  p.append((com[i]/nb)*100)\n",
    "  lab.append(i)\n",
    "\n",
    "for i in range(len(p)):\n",
    "  if p[i]>100 :\n",
    "    p[i]=97\n",
    "\n",
    "plt.yticks(np.arange(0, 105, 5))\n",
    "\n",
    "plt.bar(lab, p)\n",
    "\n",
    "plt.xlabel('Sensors')\n",
    "plt.ylabel('% of packets received correctly')\n",
    "plt.title('Percentage of packets received correctly per sensor')\n",
    "\n",
    "plt.show()"
   ]
  },
  {
   "cell_type": "code",
   "execution_count": null,
   "metadata": {},
   "outputs": [],
   "source": [
    "def moy(liste):\n",
    "    somme = sum(liste)\n",
    "    moyenne = somme / len(liste)\n",
    "    return moyenne\n",
    "\n",
    "print(f\"packets lost in the network {100-moy(p)}\")"
   ]
  },
  {
   "cell_type": "code",
   "execution_count": null,
   "metadata": {},
   "outputs": [],
   "source": [
    "for cle, tableau in bat.items():\n",
    "    plt.plot(tableau, label=cle)\n",
    "\n",
    "\n",
    "plt.yticks(np.arange(0, 105, 5))\n",
    "plt.legend(loc='upper left')\n",
    "plt.xlabel('time in minutes')\n",
    "plt.ylabel('% of battery')\n",
    "plt.title('Percentage battery of each sensor as a function of time ')\n",
    "plt.show()"
   ]
  },
  {
   "cell_type": "code",
   "execution_count": null,
   "metadata": {},
   "outputs": [],
   "source": [
    "print(f\"the number of route changes is {comp}\")"
   ]
  }
 ],
 "metadata": {
  "kernelspec": {
   "display_name": "Python 3 (ipykernel)",
   "language": "python",
   "name": "python3"
  },
  "language_info": {
   "codemirror_mode": {
    "name": "ipython",
    "version": 3
   },
   "file_extension": ".py",
   "mimetype": "text/x-python",
   "name": "python",
   "nbconvert_exporter": "python",
   "pygments_lexer": "ipython3",
   "version": "3.9.7"
  }
 },
 "nbformat": 4,
 "nbformat_minor": 4
}
