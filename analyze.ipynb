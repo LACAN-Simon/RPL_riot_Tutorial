{
  "cells": [
    {
      "cell_type": "code",
      "execution_count": null,
      "metadata": {
        "id": "YVpX_ymtBN9z"
      },
      "outputs": [],
      "source": [
        "#path of your file\n",
        "nom_fichier = \"/path/of/file\""
      ]
    },
    {
      "cell_type": "code",
      "execution_count": null,
      "metadata": {
        "id": "3keaiip0ZaqT"
      },
      "outputs": [],
      "source": [
        "import networkx as nx"
      ]
    },
    {
      "cell_type": "code",
      "execution_count": null,
      "metadata": {
        "id": "dTarrkeaaw2g"
      },
      "outputs": [],
      "source": [
        "def showtree(a):\n",
        "    pos = nx.spring_layout(a)\n",
        "    nx.draw(a, pos, with_labels=True, node_color='lightblue', node_size=700, font_size=12, font_weight='bold')"
      ]
    },
    {
      "cell_type": "code",
      "execution_count": null,
      "metadata": {
        "id": "LQg6gTYEKiAB"
      },
      "outputs": [],
      "source": [
        "ip = {}\n",
        "link = {}\n",
        "pr={}\n",
        "id = {}\n",
        "com = {}\n",
        "temp = {}\n",
        "bat = {}\n",
        "temperature = {}\n",
        "luminosite = {}\n",
        "comp = 0"
      ]
    },
    {
      "cell_type": "code",
      "execution_count": null,
      "metadata": {
        "id": "kgYRHAfmCfQz"
      },
      "outputs": [],
      "source": [
        "with open(nom_fichier, \"r\") as fichier:\n",
        "  lignes = fichier.readlines()\n",
        "  for l in lignes:\n",
        "        if (len(l)>20):\n",
        "            r = l[20:].index(';')\n",
        "            a = l[21:21+r-1]\n",
        "            if (a not in ip) :\n",
        "              ip[a] = 0\n",
        "              link[a] = 0\n",
        "              pr[a] = []\n",
        "              id[a] = 0\n",
        "              com[a] = 0\n",
        "              bat[a] = [100]\n",
        "              temperature[a] = []\n",
        "              luminosite[a] = []"
      ]
    },
    {
      "cell_type": "code",
      "execution_count": null,
      "metadata": {
        "id": "xiY3XIRXLO_W"
      },
      "outputs": [],
      "source": [
        "with open(nom_fichier, \"r\") as fichier:\n",
        "  lignes = fichier.readlines()\n",
        "  for l in lignes:\n",
        "    if (l[-10:]=='link  VAL\\n'):\n",
        "      a = l.index(':')\n",
        "      r = l[20:].index(';')\n",
        "      i = l[21:21+r-1]\n",
        "      val = l[a+2:a+27]\n",
        "      ip[i]=val.replace(\" \", \"\")\n",
        "    if ('*' in l):\n",
        "      val = l[l.index('v')+4:l.index('v')+29]\n",
        "      r = l[20:].index(';')\n",
        "      i = l[21:21+r-1]\n",
        "      link[i]=val.replace(\" \",\"\")\n",
        "    if ('parent' in l and 'addr' in l):\n",
        "      a = l[l.index('[')+7:l.index('[')+32]\n",
        "      r = l[20:].index(';')\n",
        "      i = l[21:21+r-1]\n",
        "      pr[i].append(a.replace(\" \",\"\"))\n",
        "    if 'ID =' in l[20:] :\n",
        "      r = l[20:].index(';')\n",
        "      a = l[21:21+r-1]\n",
        "      id[a] = l[l.index('=')+2:].replace(\"\\n\",\"\")\n",
        "      temp[l[l.index('=')+2:].replace(\"\\n\",\"\")]=0\n",
        "    if 'Packet' in l:\n",
        "      sup = l[21:21+l[20:].index(';')-1]\n",
        "      r = l[l.index(':')+2:].replace(\"\\n\",\"\")\n",
        "      r = r[:3].replace(\" \",\"\")\n",
        "      tem = l[-3:].replace(\"\\n\",\"\")\n",
        "      lux = l[l.index(r + \" \")+len(r)+1:].replace(\"\\n\",\"\")\n",
        "      lux = lux.replace(\" \"+tem,\"\")\n",
        "      if temp[r]!=l[:10]:\n",
        "        for i in id :\n",
        "              if r == id[i]:\n",
        "                com[i] = com[i] + 1\n",
        "                temperature[i].append(int(tem))\n",
        "                luminosite[i].append(int(lux))\n",
        "      temp[r] = l[:10]\n",
        "    if \"changement\" in l:\n",
        "      comp = comp + 1\n",
        "    r = l[20:].index(';')\n",
        "    a = l[21:21+r-1]\n",
        "    if (l[21+r:24+r]=='bat'):\n",
        "      res = l[-4:].replace(\"\\n\",\"\")\n",
        "      res = res.replace(\" \",\"\")\n",
        "      res = res.replace(\"=\", \"\")\n",
        "      bat[a].append(float(res)/10)"
      ]
    },
    {
      "cell_type": "code",
      "execution_count": null,
      "metadata": {
        "id": "MiGL9Zw4bLCs"
      },
      "outputs": [],
      "source": [
        "G = nx.Graph()\n",
        "for i in ip :\n",
        "  G.add_node(i)\n",
        "for i in link:\n",
        "  a =link[i]\n",
        "  for j in ip:\n",
        "    if (a == ip[j]):\n",
        "      G.add_edge(j, i)"
      ]
    },
    {
      "cell_type": "code",
      "execution_count": null,
      "metadata": {
        "id": "W-9QrKfdD9N0"
      },
      "outputs": [],
      "source": [
        "H = nx.Graph()\n",
        "for i in ip :\n",
        "  H.add_node(i)\n",
        "for i in pr:\n",
        "  for k in range(len(pr[i])):\n",
        "    a = pr[i][k]\n",
        "    for j in ip:\n",
        "      if (a == ip[j]):\n",
        "        H.add_edge(j, i)"
      ]
    },
    {
      "cell_type": "code",
      "execution_count": null,
      "metadata": {
        "id": "5Y19eI-2HrdV"
      },
      "outputs": [],
      "source": [
        "showtree(H)"
      ]
    },
    {
      "cell_type": "code",
      "execution_count": null,
      "metadata": {
        "id": "nVGnZT1CcavQ"
      },
      "outputs": [],
      "source": [
        "showtree(G)"
      ]
    },
    {
      "cell_type": "code",
      "source": [
        "def pdict(ip):\n",
        "  for l in ip :\n",
        "    print(l + \" : \"  + str(ip[l]))\n",
        "\n",
        "pdict(ip)"
      ],
      "metadata": {
        "id": "nCsxJ33HmZ7a"
      },
      "execution_count": null,
      "outputs": []
    },
    {
      "cell_type": "code",
      "source": [
        "pdict(link)"
      ],
      "metadata": {
        "id": "LNRp3uz8rPbj"
      },
      "execution_count": null,
      "outputs": []
    },
    {
      "cell_type": "code",
      "source": [
        "pdict(pr)"
      ],
      "metadata": {
        "id": "DuRwD-0kreKJ"
      },
      "execution_count": null,
      "outputs": []
    },
    {
      "cell_type": "code",
      "execution_count": null,
      "metadata": {
        "id": "7J0Fke7HYUD_"
      },
      "outputs": [],
      "source": [
        "del ip[sup]\n",
        "del com[sup]\n",
        "\n",
        "start = \"\"\n",
        "\n",
        "with open(nom_fichier, \"r\") as fichier:\n",
        "  lignes = fichier.readlines()\n",
        "  for l in lignes:\n",
        "        if 'Packet' in l :\n",
        "          start = l[:10]\n",
        "          break\n",
        "\n",
        "with open(nom_fichier, \"r\") as fichier:\n",
        "  lignes = fichier.readlines()\n",
        "  for l in lignes:\n",
        "        if 'Packet' in l :\n",
        "          end = l[:10]\n",
        "\n",
        "\n",
        "time = (int(end)-int(start))\n",
        "nb = time/4\n",
        "\n",
        "p = []\n",
        "q = []\n",
        "lab = []\n",
        "for i in com :\n",
        "  q.append(com[i])\n",
        "  p.append((com[i]/nb)*100)\n",
        "  lab.append(i)\n",
        "\n",
        "import matplotlib.pyplot as plt\n",
        "import numpy as np\n",
        "\n",
        "plt.yticks(np.arange(0, 105, 5))\n",
        "\n",
        "plt.bar(lab, p)\n",
        "\n",
        "plt.xlabel('Sensors')\n",
        "plt.ylabel('% of packets received correctly')\n",
        "plt.title('Percentage of packets received correctly per sensor')\n",
        "\n",
        "plt.show()"
      ]
    },
    {
      "cell_type": "code",
      "source": [
        "def read_t(a):\n",
        "  for cle, tableau in temperature.items():\n",
        "      if cle == str(a) :\n",
        "        plt.plot(tableau,)\n",
        "        plt.title(f'Temperature of the sensor {cle}')\n",
        "  plt.plot()\n",
        "  plt.show()"
      ],
      "metadata": {
        "id": "-JGgOcaqUacu"
      },
      "execution_count": null,
      "outputs": []
    },
    {
      "cell_type": "code",
      "source": [
        "def read_l(a):\n",
        "  for cle, tableau in luminosite.items():\n",
        "      if cle == str(a) :\n",
        "        plt.plot(tableau,label=cle)\n",
        "        plt.title(f'Pressure of the sensor {cle}')\n",
        "  plt.legend(loc='upper left')\n",
        "  plt.plot()\n",
        "  plt.show()"
      ],
      "metadata": {
        "id": "5N-0bOnmVoPE"
      },
      "execution_count": null,
      "outputs": []
    },
    {
      "cell_type": "code",
      "source": [
        "for cle,tab in ip.items():\n",
        "  read_l(cle)\n",
        "  read_t(cle)"
      ],
      "metadata": {
        "id": "pTaaf8aPWtyE"
      },
      "execution_count": null,
      "outputs": []
    },
    {
      "cell_type": "code",
      "source": [
        "def moy(liste):\n",
        "    somme = sum(liste)\n",
        "    moyenne = somme / len(liste)\n",
        "    return moyenne\n",
        "\n",
        "print(f\"packets lost in the network {100-moy(p)}\")"
      ],
      "metadata": {
        "id": "Jw7H4tLsEG0E"
      },
      "execution_count": null,
      "outputs": []
    },
    {
      "cell_type": "code",
      "source": [
        "import matplotlib.pyplot as plt\n",
        "import numpy as np\n",
        "\n",
        "for cle, tableau in bat.items():\n",
        "    plt.plot(tableau, label=cle)\n",
        "\n",
        "\n",
        "plt.yticks(np.arange(0, 105, 5))\n",
        "plt.legend(loc='upper left')\n",
        "plt.xlabel('time in minutes')\n",
        "plt.ylabel('% of battery')\n",
        "plt.title('Percentage battery of each sensor as a function of time ')\n",
        "plt.show()"
      ],
      "metadata": {
        "id": "B_B7P-xQZhNz"
      },
      "execution_count": null,
      "outputs": []
    }
  ],
  "metadata": {
    "colab": {
      "provenance": []
    },
    "kernelspec": {
      "display_name": "Python 3",
      "name": "python3"
    },
    "language_info": {
      "name": "python"
    }
  },
  "nbformat": 4,
  "nbformat_minor": 0
}
