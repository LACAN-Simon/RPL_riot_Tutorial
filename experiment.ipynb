{
 "cells": [
  {
   "cell_type": "markdown",
   "metadata": {
    "tags": []
   },
   "source": [
    "## Tutorial to launch an experiment"
   ]
  },
  {
   "cell_type": "markdown",
   "metadata": {},
   "source": [
    "You will use the application `sensors.elf`.\n",
    "First, download the application which is on this github. "
   ]
  },
  {
   "cell_type": "markdown",
   "metadata": {},
   "source": [
    "Open an linux terminal "
   ]
  },
  {
   "cell_type": "markdown",
   "metadata": {},
   "source": [
    "Connect to the SSH frontend and replace <site> with the right value."
   ]
  },
  {
   "cell_type": "code",
   "execution_count": null,
   "metadata": {},
   "outputs": [],
   "source": [
    "e.g. ssh lacan@lille.iot-lab.info"
   ]
  },
  {
   "cell_type": "markdown",
   "metadata": {},
   "source": [
    "3. Submit an experiment with some nodes and your app:"
   ]
  },
  {
   "cell_type": "code",
   "execution_count": 6,
   "metadata": {},
   "outputs": [
    {
     "name": "stdout",
     "output_type": "stream",
     "text": [
      "{\n",
      "    \"id\": 375025\n",
      "}\n"
     ]
    }
   ],
   "source": [
    "!iotlab-experiment submit -n \"riot-rpl\" -d 20 -l lille,m3,117+120+80+33+27+88+40+86+29+30+83+69+76+66+41+38+19,sensors.elf"
   ]
  },
  {
   "cell_type": "markdown",
   "metadata": {},
   "source": [
    "4. Wait for the experiment to be running:"
   ]
  },
  {
   "cell_type": "code",
   "execution_count": 7,
   "metadata": {},
   "outputs": [
    {
     "name": "stdout",
     "output_type": "stream",
     "text": [
      "Waiting that experiment 375025 gets in state Running\n",
      "\"Running\"\n"
     ]
    }
   ],
   "source": [
    "!iotlab-experiment wait --timeout 30 --cancel-on-timeout"
   ]
  },
  {
   "cell_type": "markdown",
   "metadata": {},
   "source": [
    "In your terminal, use the serial function to see all your outputs"
   ]
  },
  {
   "cell_type": "code",
   "execution_count": null,
   "metadata": {},
   "outputs": [],
   "source": [
    "serial_aggregator"
   ]
  },
  {
   "cell_type": "markdown",
   "metadata": {},
   "source": [
    "By default, the serial_aggregator will try to connect to all the nodes of your current experiment.\n",
    "\n",
    "The serial link output of all nodes will be printed here. You are also able to write to nodes serial link. By default, the writen message is sent to all nodes, but you can prepend the message by the node ID to send it to a particular node."
   ]
  },
  {
   "cell_type": "markdown",
   "metadata": {},
   "source": [
    "### Start RPL\n",
    "\n",
    "Before starting RPL, an IPv6 address must be configured for the RPL root node. "
   ]
  },
  {
   "cell_type": "markdown",
   "metadata": {},
   "source": [
    "In this tutorial, we chose node 117 as root. Replace the ID by the one you have chosen from your nodes and the address by the one given just above."
   ]
  },
  {
   "cell_type": "code",
   "execution_count": null,
   "metadata": {},
   "outputs": [],
   "source": [
    "m3-117;ifconfig 6 add fd00::ff:fe00:1"
   ]
  },
  {
   "cell_type": "markdown",
   "metadata": {},
   "source": [
    "Afteerwards, RPL have to be initialized on interface 6 for all nodes:"
   ]
  },
  {
   "cell_type": "code",
   "execution_count": null,
   "metadata": {},
   "outputs": [],
   "source": [
    "rpl init 6"
   ]
  },
  {
   "cell_type": "markdown",
   "metadata": {},
   "source": [
    "Now, a DODAG can be started on the root node with the instance id _1_ and the root's configured IPv6 address as the DODAG-ID:"
   ]
  },
  {
   "cell_type": "code",
   "execution_count": null,
   "metadata": {},
   "outputs": [],
   "source": [
    "m3-117;rpl root 1 fd00::ff:fe00:1"
   ]
  },
  {
   "cell_type": "markdown",
   "metadata": {},
   "source": [
    "The `rpl` command can be used to show information about the RPL state from the root:"
   ]
  },
  {
   "cell_type": "code",
   "execution_count": null,
   "metadata": {},
   "outputs": [],
   "source": [
    "m3-117;rpl"
   ]
  },
  {
   "cell_type": "markdown",
   "metadata": {},
   "source": [
    "```\n",
    "1575919912.736839;m3-1;> rpl\n",
    "1575919912.737875;m3-1;instance table:        [X]\n",
    "1575919912.738071;m3-1;parent table:  [ ]     [ ]     [ ]\n",
    "1575919912.738210;m3-1;\n",
    "1575919912.740233;m3-1;instance [1 | Iface: 6 | mop: 2 | ocp: 0 | mhri: 256 | mri 0]\n",
    "1575919912.742806;m3-1;       dodag [fd00::1 | R: 256 | OP: Router | PIO: on | TR(I=[8,20], k=10, c=0, TC=107s)]\n",
    "```"
   ]
  },
  {
   "cell_type": "markdown",
   "metadata": {},
   "source": [
    "The last line indicates that this node is part of the DODAG, with a rank of `R: 256`.\n",
    "\n",
    "Call the samecommand from another node:"
   ]
  },
  {
   "cell_type": "code",
   "execution_count": null,
   "metadata": {},
   "outputs": [],
   "source": [
    "m3-120;rpl"
   ]
  },
  {
   "cell_type": "markdown",
   "metadata": {},
   "source": [
    "```\n",
    "1575919904.549503;m3-2;> rpl\n",
    "1575919904.549748;m3-2;instance table:        [X]\n",
    "1575919904.550382;m3-2;parent table:  [X]     [ ]     [ ]\n",
    "1575919904.550580;m3-2;\n",
    "1575919904.551289;m3-2;instance [1 | Iface: 6 | mop: 2 | ocp: 0 | mhri: 256 | mri 0]\n",
    "1575919904.553231;m3-2;       dodag [fd00::1 | R: 512 | OP: Router | PIO: on | TR(I=[8,20], k=10, c=1, TC=52s)]\n",
    "1575919904.554237;m3-2;               parent [addr: fe80::1711:6b10:65f7:550a | rank: 256]\n",
    "```"
   ]
  },
  {
   "cell_type": "markdown",
   "metadata": {},
   "source": [
    "This node is part of the same DODAG, but with a rank of `512`. Furthermore, it has a preferred parent with a rank of `256` with a link-local IPv6 address that matches that of the root. You can check it with the `ifconfig` command: "
   ]
  },
  {
   "cell_type": "code",
   "execution_count": null,
   "metadata": {},
   "outputs": [],
   "source": [
    "m3-117;ifconfig"
   ]
  },
  {
   "cell_type": "markdown",
   "metadata": {},
   "source": [
    "```\n",
    "1575920479.654471;m3-1;> ifconfig\n",
    "1575920479.656100;m3-1;Iface  6  HWaddr: 55:0A  Channel: 26  Page: 0  NID: 0x23\n",
    "1575920479.656948;m3-1;          Long HWaddr: 15:11:6B:10:65:F7:55:0A \n",
    "1575920479.658778;m3-1;           TX-Power: 0dBm  State: IDLE  max. Retrans.: 3  CSMA Retries: 4 \n",
    "1575920479.660791;m3-1;          AUTOACK  ACK_REQ  CSMA  L2-PDU:102 MTU:1280  HL:64  RTR  \n",
    "1575920479.660987;m3-1;          6LO  IPHC  \n",
    "1575920479.661790;m3-1;          Source address length: 8\n",
    "1575920479.662788;m3-1;          Link type: wireless\n",
    "1575920479.663785;m3-1;          inet6 addr: fe80::1711:6b10:65f7:550a  scope: local  VAL\n",
    "1575920479.665779;m3-1;          inet6 addr: fd00::1  scope: global  VAL\n",
    "[...]\n",
    "```"
   ]
  },
  {
   "cell_type": "markdown",
   "metadata": {},
   "source": [
    "Note that all participating nodes in the RPL-DODAG have configured automatically an IPv6 address matching the prefix from the DODAG-ID. Verify with `ifconfig` on your two others nodes."
   ]
  },
  {
   "cell_type": "markdown",
   "metadata": {},
   "source": [
    "### Show neighbors\n",
    "\n",
    "You can show the Neighbor Information Base with the `nib` command, to explore the DODAG, from the root:"
   ]
  },
  {
   "cell_type": "code",
   "execution_count": null,
   "metadata": {},
   "outputs": [],
   "source": [
    "m3-117;nib route"
   ]
  },
  {
   "cell_type": "markdown",
   "metadata": {},
   "source": [
    "```\n",
    "1575921101.414540;m3-1;> nib route\n",
    "1575921101.415532;m3-1;fd00::/64 dev #6\n",
    "1575921101.416389;m3-1;fd00::1711:6b10:65fb:850a/128 via fe80::1711:6b10:65fb:850a dev #6\n",
    "1575921101.418222;m3-1;fd00::1711:6b10:65f9:ac2a/128 via fe80::1711:6b10:65f9:ac2a dev #6\n",
    "```"
   ]
  },
  {
   "cell_type": "markdown",
   "metadata": {},
   "source": [
    "and from another node:"
   ]
  },
  {
   "cell_type": "code",
   "execution_count": null,
   "metadata": {},
   "outputs": [],
   "source": [
    "m3-120;nib route"
   ]
  },
  {
   "cell_type": "markdown",
   "metadata": {},
   "source": [
    "```\n",
    "1575921285.989180;m3-2;> nib route\n",
    "1575921285.989336;m3-2;fd00::/64 dev #6\n",
    "1575921285.990040;m3-2;default* via fe80::1711:6b10:65f7:550a dev #7\n",
    "```"
   ]
  },
  {
   "cell_type": "markdown",
   "metadata": {},
   "source": [
    "Do CTRL+C in your terminal to exit of the serial_aggragator fonction"
   ]
  },
  {
   "cell_type": "markdown",
   "metadata": {},
   "source": [
    "Now you will be able to start sending messages to your root node and get some data about all of your nodes"
   ]
  },
  {
   "cell_type": "markdown",
   "metadata": {},
   "source": [
    "In your terminal, use this fonction to put all of your outputs in the same file"
   ]
  },
  {
   "cell_type": "code",
   "execution_count": null,
   "metadata": {},
   "outputs": [],
   "source": [
    "serial_aggregator 1> exp1"
   ]
  },
  {
   "cell_type": "markdown",
   "metadata": {},
   "source": [
    "Create an udp server to received all of your messages"
   ]
  },
  {
   "cell_type": "code",
   "execution_count": null,
   "metadata": {},
   "outputs": [],
   "source": [
    "m3-117;ser 4567"
   ]
  },
  {
   "cell_type": "markdown",
   "metadata": {},
   "source": [
    "Now you can put the fonction go with the ipv6 address of your root\n",
    "Choose the mode you want to test between the 1, 2 or 3\n",
    "The different modes are explain in the readme "
   ]
  },
  {
   "cell_type": "code",
   "execution_count": null,
   "metadata": {},
   "outputs": [],
   "source": [
    "go fd00::ff:fe00:1 2"
   ]
  },
  {
   "cell_type": "markdown",
   "metadata": {},
   "source": [
    "Wait the end of your experiment"
   ]
  },
  {
   "cell_type": "markdown",
   "metadata": {},
   "source": [
    "Now you can take the file exp1 out and use the next Jupyter Notebook to analyse your results"
   ]
  },
  {
   "cell_type": "markdown",
   "metadata": {},
   "source": [
    "Exit of the ssh server with the "exit" function"
   ]
  },
  {
   "cell_type": "markdown",
   "metadata": {},
   "source": [
    "Download exp1 file on your computer"
   ]
  },
  {
   "cell_type": "code",
   "execution_count": null,
   "metadata": {},
   "outputs": [],
   "source": [
    "e.g. scp lacan@lille.iot-lab.info:./exp1 snap/"
   ]
  },
],
 "metadata": {
  "kernelspec": {
   "display_name": "Python 3 (ipykernel)",
   "language": "python",
   "name": "python3"
  },
  "language_info": {
   "codemirror_mode": {
    "name": "ipython",
    "version": 3
   },
   "file_extension": ".py",
   "mimetype": "text/x-python",
   "name": "python",
   "nbconvert_exporter": "python",
   "pygments_lexer": "ipython3",
   "version": "3.9.7"
  }
 },
 "nbformat": 4,
 "nbformat_minor": 4
}
